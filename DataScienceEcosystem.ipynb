{
 "cells": [
  {
   "cell_type": "markdown",
   "id": "fe59ec3d-dca1-45c3-bf32-fd7f61568098",
   "metadata": {},
   "source": [
    "# Data Science Tools and EcoSystem\n"
   ]
  },
  {
   "cell_type": "markdown",
   "id": "1dccb6b3-0dc6-4eb1-ae4d-b4673abbb8a1",
   "metadata": {},
   "source": [
    "in this notebook, Data Science Tools and Ecosystem are summarized"
   ]
  },
  {
   "cell_type": "markdown",
   "id": "dc6cc314-2d92-404b-baf0-49c127fd8bf9",
   "metadata": {},
   "source": [
    "<b>Objetives:</b>\n",
    "\n",
    "* List popular languages for data Science\n",
    "* create code cells\n",
    "* create markdown cells\n",
    "* create simple arithmetic operations\n",
    "\n",
    "<b>this was exercise 10 - Insert markdown cell to list objectives after exercise 3 cell</b>"
   ]
  },
  {
   "cell_type": "markdown",
   "id": "12c79cfc-6f70-45a6-bfc1-cb081870802a",
   "metadata": {},
   "source": [
    "<b>Exercise 4 - Create a markdown cell to list Data Science Languages</b>\n",
    "\n",
    "Some of the popular languages that Data Scientists use are: \n",
    "1. Python\n",
    "2. R\n",
    "3. Julia\n",
    "4. Scala\n",
    "5. MatLab\n",
    "6. C++"
   ]
  },
  {
   "cell_type": "markdown",
   "id": "44eeefa7-bec6-4362-9fb8-882821f06da7",
   "metadata": {},
   "source": [
    "<b>Exercise 5 - Create a markdown cell to list data science librarires</b>\n",
    "\n",
    "Some of the commonly used libraries used by Data Scientists include: \n",
    "\n",
    "Python Libraries\n",
    "\n",
    "1.\tNumPy – Fundamental for numerical computing and array operations.\n",
    "2.\tPandas – Used for data manipulation and analysis (DataFrames).\n",
    "3.\tMatplotlib – Basic plotting and visualization library.\n",
    "4.\tSeaborn – Statistical data visualization built on top of Matplotlib.\n",
    "5.\tScikit-learn – Machine learning library for classification, regression, and clustering.\n",
    "6.\tTensorFlow – Deep learning framework developed by Google."
   ]
  },
  {
   "cell_type": "markdown",
   "id": "6f187de3-b309-4700-8c69-8e61e866cb69",
   "metadata": {},
   "source": [
    "<b> Exercise 6 - Create markdown cell table of Data Science Tools </b>\n",
    "\n",
    "| Data Science tools|\n",
    "|----------|\n",
    "| R Studio| \n",
    "| Jupyter Notebook| \n",
    "| VS Code  | "
   ]
  },
  {
   "cell_type": "markdown",
   "id": "2e23d914-74c2-4a25-967d-243d583d5333",
   "metadata": {},
   "source": [
    "<b> Exercise 7 - Markdown cell arithmetic experession examples title </b>\n",
    "\n",
    "### Below are a few examples of evaluating arithmetic expressions in Python"
   ]
  },
  {
   "cell_type": "markdown",
   "id": "cb1e4154-6f9e-442c-badd-6e08c7cafabf",
   "metadata": {},
   "source": [
    "<b>Exercise 8 Multiply and Add numbers </b>"
   ]
  },
  {
   "cell_type": "code",
   "execution_count": 33,
   "id": "ec6c0672-1af0-479e-95da-b41546b2406e",
   "metadata": {},
   "outputs": [
    {
     "name": "stdout",
     "output_type": "stream",
     "text": [
      "17\n"
     ]
    }
   ],
   "source": [
    "#this is a simple arithmetic expression to multiply then add integers\n",
    "\n",
    "y= (3 * 4) + 5\n",
    "print(y)\n"
   ]
  },
  {
   "cell_type": "markdown",
   "id": "7a6e626a-d939-421c-b97c-0fce352f30bd",
   "metadata": {},
   "source": [
    "<b>Exercise 9 - Create a code cell to convert minutes to hours</b>"
   ]
  },
  {
   "cell_type": "code",
   "execution_count": 29,
   "id": "dfbc87cf-6bbf-47d5-ac26-068ae8573f7f",
   "metadata": {},
   "outputs": [
    {
     "name": "stdout",
     "output_type": "stream",
     "text": [
      "3.3333333333333335\n"
     ]
    }
   ],
   "source": [
    "minutes = 200\n",
    "# this will convert 200 minutes to hours by diving by 60\n",
    "hours =  minutes / 60\n",
    "print (hours)"
   ]
  },
  {
   "cell_type": "markdown",
   "id": "bbac30ab-e607-4f2c-b9fd-3bdc66a71c19",
   "metadata": {},
   "source": [
    "<b> Exercise 11 - Cell with Author's Name</b> \n",
    "\n",
    "## Author\n",
    "Vitor Correia"
   ]
  },
  {
   "cell_type": "code",
   "execution_count": null,
   "id": "15c478d1-f20c-4bab-ab43-6f3e4db9ade6",
   "metadata": {},
   "outputs": [],
   "source": []
  },
  {
   "cell_type": "code",
   "execution_count": null,
   "id": "9c6107d6-1c1c-4844-93c7-b78f8a2a7198",
   "metadata": {},
   "outputs": [],
   "source": []
  }
 ],
 "metadata": {
  "kernelspec": {
   "display_name": "Python [conda env:base] *",
   "language": "python",
   "name": "conda-base-py"
  },
  "language_info": {
   "codemirror_mode": {
    "name": "ipython",
    "version": 3
   },
   "file_extension": ".py",
   "mimetype": "text/x-python",
   "name": "python",
   "nbconvert_exporter": "python",
   "pygments_lexer": "ipython3",
   "version": "3.12.7"
  }
 },
 "nbformat": 4,
 "nbformat_minor": 5
}
